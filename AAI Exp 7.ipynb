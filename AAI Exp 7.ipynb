{
 "cells": [
  {
   "cell_type": "code",
   "execution_count": 1,
   "id": "789f541b",
   "metadata": {},
   "outputs": [
    {
     "name": "stdout",
     "output_type": "stream",
     "text": [
      "Requirement already satisfied: nltk in d:\\anaconda\\envs\\aimath\\lib\\site-packages (3.8.1)\n",
      "Requirement already satisfied: regex>=2021.8.3 in d:\\anaconda\\envs\\aimath\\lib\\site-packages (from nltk) (2024.4.16)\n",
      "Requirement already satisfied: tqdm in d:\\anaconda\\envs\\aimath\\lib\\site-packages (from nltk) (4.66.2)\n",
      "Requirement already satisfied: click in d:\\anaconda\\envs\\aimath\\lib\\site-packages (from nltk) (8.1.7)\n",
      "Requirement already satisfied: joblib in d:\\anaconda\\envs\\aimath\\lib\\site-packages (from nltk) (1.3.2)\n",
      "Requirement already satisfied: colorama in d:\\anaconda\\envs\\aimath\\lib\\site-packages (from click->nltk) (0.4.4)\n",
      "Note: you may need to restart the kernel to use updated packages.\n"
     ]
    }
   ],
   "source": [
    "pip install nltk"
   ]
  },
  {
   "cell_type": "code",
   "execution_count": 6,
   "id": "35c3d1c2",
   "metadata": {},
   "outputs": [
    {
     "name": "stderr",
     "output_type": "stream",
     "text": [
      "[nltk_data] Downloading package punkt to\n",
      "[nltk_data]     C:\\Users\\chief\\AppData\\Roaming\\nltk_data...\n",
      "[nltk_data]   Package punkt is already up-to-date!\n",
      "[nltk_data] Downloading package stopwords to\n",
      "[nltk_data]     C:\\Users\\chief\\AppData\\Roaming\\nltk_data...\n",
      "[nltk_data]   Package stopwords is already up-to-date!\n"
     ]
    },
    {
     "data": {
      "text/plain": [
       "True"
      ]
     },
     "execution_count": 6,
     "metadata": {},
     "output_type": "execute_result"
    }
   ],
   "source": [
    "import nltk\n",
    "from nltk.corpus import stopwords\n",
    "from nltk.tokenize import word_tokenize,sent_tokenize\n",
    "from nltk.stem import PorterStemmer\n",
    "nltk.download('punkt')\n",
    "nltk.download('stopwords')"
   ]
  },
  {
   "cell_type": "code",
   "execution_count": 7,
   "id": "93f2c11a",
   "metadata": {},
   "outputs": [],
   "source": [
    "def preprocess_text(text):\n",
    "# Tokenize the text into words\n",
    "    words = word_tokenize(text)\n",
    "# Remove stopwords and punctuation\n",
    "    stop_words= set(stopwords.words( 'english'))\n",
    "    filtered_words= [word for word in words if word. lower() not in stop_words and word.isalnum()]\n",
    "\n",
    "# Stemming\n",
    "    stemmer = PorterStemmer()\n",
    "\n",
    "    stemmed_words= [stemmer. stem(word) for word in filtered_words]\n",
    "    return stemmed_words"
   ]
  },
  {
   "cell_type": "code",
   "execution_count": 8,
   "id": "b33b97f2",
   "metadata": {},
   "outputs": [],
   "source": [
    "def generate_summary(text,num_sentences=3):\n",
    "\n",
    "    sentences= sent_tokenize(text)\n",
    "    preprocessed_text = preprocess_text(text)\n",
    "# Calculate the frequency of each word\n",
    "    word_frequencies =nltk. FreqDist (preprocessed_text)\n",
    "\n",
    "# Calculate the score for each sentence based on word frequency\n",
    "    sentence_scores ={}\n",
    "    for sentence in sentences:\n",
    "        for word, freq in word_frequencies.items():\n",
    "            if word in sentence.lower():\n",
    "                if sentence not in sentence_scores:\n",
    "                    sentence_scores[sentence] = freq\n",
    "                else:\n",
    "                    sentence_scores[sentence]+= freq\n",
    "# Select top N sentences with highest scores\n",
    "    summary_sentences= sorted(sentence_scores, key=sentence_scores.get,reverse=True) [ : num_sentences]\n",
    "\n",
    "    return ' '. join(summary_sentences)"
   ]
  },
  {
   "cell_type": "code",
   "execution_count": 10,
   "id": "dc694fa0",
   "metadata": {},
   "outputs": [
    {
     "name": "stdout",
     "output_type": "stream",
     "text": [
      "Original Text: \n",
      "\n",
      "    Natural language processing (NLP) is a subfield of artificial intelligence.\n",
      "    It involves the development of algorithms and models that enact NLP.\n",
      "    NLP is used in various applications, including chatbots, language Understanding, and language generation.\n",
      "    This program demonstrates a simple text summarization using NLP\n",
      "\n",
      "Summary: \n",
      "NLP is used in various applications, including chatbots, language Understanding, and language generation. \n",
      "    Natural language processing (NLP) is a subfield of artificial intelligence. It involves the development of algorithms and models that enact NLP.\n"
     ]
    }
   ],
   "source": [
    "if __name__==\"__main__\":\n",
    "    input_text =\"\"\"\n",
    "    Natural language processing (NLP) is a subfield of artificial intelligence.\n",
    "    It involves the development of algorithms and models that enact NLP.\n",
    "    NLP is used in various applications, including chatbots, language Understanding, and language generation.\n",
    "    This program demonstrates a simple text summarization using NLP\"\"\"\n",
    "summary = generate_summary(input_text)\n",
    "print(\"Original Text: \")\n",
    "print(input_text)\n",
    "print(\"\\nSummary: \")\n",
    "print(summary)"
   ]
  }
 ],
 "metadata": {
  "kernelspec": {
   "display_name": "Python 3 (ipykernel)",
   "language": "python",
   "name": "python3"
  },
  "language_info": {
   "codemirror_mode": {
    "name": "ipython",
    "version": 3
   },
   "file_extension": ".py",
   "mimetype": "text/x-python",
   "name": "python",
   "nbconvert_exporter": "python",
   "pygments_lexer": "ipython3",
   "version": "3.9.7"
  }
 },
 "nbformat": 4,
 "nbformat_minor": 5
}
